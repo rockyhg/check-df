{
 "cells": [
  {
   "cell_type": "code",
   "execution_count": 1,
   "id": "96568004",
   "metadata": {},
   "outputs": [],
   "source": [
    "import pandas as pd\n",
    "from check_df import check_df"
   ]
  },
  {
   "cell_type": "code",
   "execution_count": 6,
   "id": "56c7e41d",
   "metadata": {},
   "outputs": [
    {
     "data": {
      "text/html": [
       "<div>\n",
       "<style scoped>\n",
       "    .dataframe tbody tr th:only-of-type {\n",
       "        vertical-align: middle;\n",
       "    }\n",
       "\n",
       "    .dataframe tbody tr th {\n",
       "        vertical-align: top;\n",
       "    }\n",
       "\n",
       "    .dataframe thead th {\n",
       "        text-align: right;\n",
       "    }\n",
       "</style>\n",
       "<table border=\"1\" class=\"dataframe\">\n",
       "  <thead>\n",
       "    <tr style=\"text-align: right;\">\n",
       "      <th></th>\n",
       "      <th>Column</th>\n",
       "      <th>dtypes</th>\n",
       "      <th>NaN Count</th>\n",
       "      <th>Nunique</th>\n",
       "      <th>Unique Values</th>\n",
       "    </tr>\n",
       "  </thead>\n",
       "  <tbody>\n",
       "    <tr>\n",
       "      <th>0</th>\n",
       "      <td>Id</td>\n",
       "      <td>int64</td>\n",
       "      <td>0</td>\n",
       "      <td>20</td>\n",
       "      <td>&gt; 10 unique values</td>\n",
       "    </tr>\n",
       "    <tr>\n",
       "      <th>1</th>\n",
       "      <td>MSSubClass</td>\n",
       "      <td>int64</td>\n",
       "      <td>0</td>\n",
       "      <td>5</td>\n",
       "      <td>[20, 60, 70, 50, 30]</td>\n",
       "    </tr>\n",
       "    <tr>\n",
       "      <th>2</th>\n",
       "      <td>MSZoning</td>\n",
       "      <td>object</td>\n",
       "      <td>0</td>\n",
       "      <td>4</td>\n",
       "      <td>[RL, RM, C (all), RH]</td>\n",
       "    </tr>\n",
       "    <tr>\n",
       "      <th>3</th>\n",
       "      <td>LotFrontage</td>\n",
       "      <td>float64</td>\n",
       "      <td>4</td>\n",
       "      <td>15</td>\n",
       "      <td>&gt; 10 unique values</td>\n",
       "    </tr>\n",
       "    <tr>\n",
       "      <th>4</th>\n",
       "      <td>LotArea</td>\n",
       "      <td>int64</td>\n",
       "      <td>0</td>\n",
       "      <td>20</td>\n",
       "      <td>&gt; 10 unique values</td>\n",
       "    </tr>\n",
       "    <tr>\n",
       "      <th>5</th>\n",
       "      <td>SaleCondition</td>\n",
       "      <td>object</td>\n",
       "      <td>0</td>\n",
       "      <td>5</td>\n",
       "      <td>[Normal, Abnorml, Partial, AdjLand, Alloca]</td>\n",
       "    </tr>\n",
       "  </tbody>\n",
       "</table>\n",
       "</div>"
      ],
      "text/plain": [
       "          Column   dtypes  NaN Count  Nunique  \\\n",
       "0             Id    int64          0       20   \n",
       "1     MSSubClass    int64          0        5   \n",
       "2       MSZoning   object          0        4   \n",
       "3    LotFrontage  float64          4       15   \n",
       "4        LotArea    int64          0       20   \n",
       "5  SaleCondition   object          0        5   \n",
       "\n",
       "                                 Unique Values  \n",
       "0                           > 10 unique values  \n",
       "1                         [20, 60, 70, 50, 30]  \n",
       "2                        [RL, RM, C (all), RH]  \n",
       "3                           > 10 unique values  \n",
       "4                           > 10 unique values  \n",
       "5  [Normal, Abnorml, Partial, AdjLand, Alloca]  "
      ]
     },
     "execution_count": 6,
     "metadata": {},
     "output_type": "execute_result"
    }
   ],
   "source": [
    "# サンプルCSVを読み込み\n",
    "df = pd.read_csv(\"sample_data.csv\")\n",
    "# 関数を実行\n",
    "check_df(df)"
   ]
  },
  {
   "cell_type": "code",
   "execution_count": null,
   "id": "eea32a54",
   "metadata": {},
   "outputs": [],
   "source": []
  }
 ],
 "metadata": {
  "kernelspec": {
   "display_name": ".venv",
   "language": "python",
   "name": "python3"
  },
  "language_info": {
   "codemirror_mode": {
    "name": "ipython",
    "version": 3
   },
   "file_extension": ".py",
   "mimetype": "text/x-python",
   "name": "python",
   "nbconvert_exporter": "python",
   "pygments_lexer": "ipython3",
   "version": "3.12.9"
  }
 },
 "nbformat": 4,
 "nbformat_minor": 5
}
